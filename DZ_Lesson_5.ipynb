{
 "cells": [
  {
   "cell_type": "code",
   "execution_count": 44,
   "metadata": {
    "id": "_yJFfTXBsf8R"
   },
   "outputs": [],
   "source": [
    "import pandas as pd\n",
    "import numpy as np\n",
    "from sklearn.pipeline import Pipeline, make_pipeline,FeatureUnion\n",
    "from sklearn.preprocessing import StandardScaler\n",
    "from sklearn.base import BaseEstimator, TransformerMixin\n",
    "from sklearn.linear_model import LogisticRegression\n",
    "from sklearn.model_selection import train_test_split\n",
    "from sklearn.ensemble import GradientBoostingClassifier\n",
    "from sklearn.model_selection import GridSearchCV\n",
    "from sklearn.ensemble import RandomForestClassifier\n",
    "from sklearn.metrics import classification_report, precision_recall_curve, confusion_matrix\n",
    "import itertools\n",
    "\n",
    "import matplotlib.pyplot as plt\n",
    "\n",
    "%matplotlib inline"
   ]
  },
  {
   "cell_type": "code",
   "execution_count": 2,
   "metadata": {
    "colab": {
     "base_uri": "https://localhost:8080/",
     "height": 143
    },
    "id": "LDKU90Nbsf8U",
    "outputId": "fc6a4b23-ab3a-4fa8-88a1-3aa1a0224432"
   },
   "outputs": [
    {
     "data": {
      "text/html": [
       "<div>\n",
       "<style scoped>\n",
       "    .dataframe tbody tr th:only-of-type {\n",
       "        vertical-align: middle;\n",
       "    }\n",
       "\n",
       "    .dataframe tbody tr th {\n",
       "        vertical-align: top;\n",
       "    }\n",
       "\n",
       "    .dataframe thead th {\n",
       "        text-align: right;\n",
       "    }\n",
       "</style>\n",
       "<table border=\"1\" class=\"dataframe\">\n",
       "  <thead>\n",
       "    <tr style=\"text-align: right;\">\n",
       "      <th></th>\n",
       "      <th>RowNumber</th>\n",
       "      <th>CustomerId</th>\n",
       "      <th>Surname</th>\n",
       "      <th>CreditScore</th>\n",
       "      <th>Geography</th>\n",
       "      <th>Gender</th>\n",
       "      <th>Age</th>\n",
       "      <th>Tenure</th>\n",
       "      <th>Balance</th>\n",
       "      <th>NumOfProducts</th>\n",
       "      <th>HasCrCard</th>\n",
       "      <th>IsActiveMember</th>\n",
       "      <th>EstimatedSalary</th>\n",
       "      <th>Exited</th>\n",
       "    </tr>\n",
       "  </thead>\n",
       "  <tbody>\n",
       "    <tr>\n",
       "      <th>0</th>\n",
       "      <td>1</td>\n",
       "      <td>15634602</td>\n",
       "      <td>Hargrave</td>\n",
       "      <td>619</td>\n",
       "      <td>France</td>\n",
       "      <td>Female</td>\n",
       "      <td>42</td>\n",
       "      <td>2</td>\n",
       "      <td>0.00</td>\n",
       "      <td>1</td>\n",
       "      <td>1</td>\n",
       "      <td>1</td>\n",
       "      <td>101348.88</td>\n",
       "      <td>1</td>\n",
       "    </tr>\n",
       "    <tr>\n",
       "      <th>1</th>\n",
       "      <td>2</td>\n",
       "      <td>15647311</td>\n",
       "      <td>Hill</td>\n",
       "      <td>608</td>\n",
       "      <td>Spain</td>\n",
       "      <td>Female</td>\n",
       "      <td>41</td>\n",
       "      <td>1</td>\n",
       "      <td>83807.86</td>\n",
       "      <td>1</td>\n",
       "      <td>0</td>\n",
       "      <td>1</td>\n",
       "      <td>112542.58</td>\n",
       "      <td>0</td>\n",
       "    </tr>\n",
       "    <tr>\n",
       "      <th>2</th>\n",
       "      <td>3</td>\n",
       "      <td>15619304</td>\n",
       "      <td>Onio</td>\n",
       "      <td>502</td>\n",
       "      <td>France</td>\n",
       "      <td>Female</td>\n",
       "      <td>42</td>\n",
       "      <td>8</td>\n",
       "      <td>159660.80</td>\n",
       "      <td>3</td>\n",
       "      <td>1</td>\n",
       "      <td>0</td>\n",
       "      <td>113931.57</td>\n",
       "      <td>1</td>\n",
       "    </tr>\n",
       "  </tbody>\n",
       "</table>\n",
       "</div>"
      ],
      "text/plain": [
       "   RowNumber  CustomerId   Surname  CreditScore Geography  Gender  Age  \\\n",
       "0          1    15634602  Hargrave          619    France  Female   42   \n",
       "1          2    15647311      Hill          608     Spain  Female   41   \n",
       "2          3    15619304      Onio          502    France  Female   42   \n",
       "\n",
       "   Tenure    Balance  NumOfProducts  HasCrCard  IsActiveMember  \\\n",
       "0       2       0.00              1          1               1   \n",
       "1       1   83807.86              1          0               1   \n",
       "2       8  159660.80              3          1               0   \n",
       "\n",
       "   EstimatedSalary  Exited  \n",
       "0        101348.88       1  \n",
       "1        112542.58       0  \n",
       "2        113931.57       1  "
      ]
     },
     "execution_count": 2,
     "metadata": {},
     "output_type": "execute_result"
    }
   ],
   "source": [
    "df = pd.read_csv(\"churn_data.csv\")\n",
    "df.head(3)"
   ]
  },
  {
   "cell_type": "markdown",
   "metadata": {
    "id": "fxErVfH_sf8W"
   },
   "source": [
    "Посмотрим на распределение классов:"
   ]
  },
  {
   "cell_type": "code",
   "execution_count": 3,
   "metadata": {
    "colab": {
     "base_uri": "https://localhost:8080/"
    },
    "id": "m76pJ_spsf8X",
    "outputId": "ca849f2c-bde2-4429-e700-14e06923fdbe"
   },
   "outputs": [
    {
     "data": {
      "text/plain": [
       "0    7963\n",
       "1    2037\n",
       "Name: Exited, dtype: int64"
      ]
     },
     "execution_count": 3,
     "metadata": {},
     "output_type": "execute_result"
    }
   ],
   "source": [
    "df['Exited'].value_counts()"
   ]
  },
  {
   "cell_type": "markdown",
   "metadata": {
    "id": "gHHHgjRmsf8a"
   },
   "source": [
    "Не самое плохое распределение (1 к 4)"
   ]
  },
  {
   "cell_type": "markdown",
   "metadata": {
    "id": "C0UTBvAisf8b"
   },
   "source": [
    "Построим модель. Сразу же будем работать с использованием sklearn pipeline"
   ]
  },
  {
   "cell_type": "code",
   "execution_count": 4,
   "metadata": {
    "id": "mBAkHjXXsf8c"
   },
   "outputs": [],
   "source": [
    "#разделим данные на train/test и Удалим признак CustomerId,Exited\n",
    "X_train, X_test, y_train, y_test = train_test_split(df.drop(['Exited','CustomerId','Surname'],axis=1), df['Exited'], random_state=0)"
   ]
  },
  {
   "cell_type": "code",
   "execution_count": 5,
   "metadata": {},
   "outputs": [
    {
     "data": {
      "text/html": [
       "<div>\n",
       "<style scoped>\n",
       "    .dataframe tbody tr th:only-of-type {\n",
       "        vertical-align: middle;\n",
       "    }\n",
       "\n",
       "    .dataframe tbody tr th {\n",
       "        vertical-align: top;\n",
       "    }\n",
       "\n",
       "    .dataframe thead th {\n",
       "        text-align: right;\n",
       "    }\n",
       "</style>\n",
       "<table border=\"1\" class=\"dataframe\">\n",
       "  <thead>\n",
       "    <tr style=\"text-align: right;\">\n",
       "      <th></th>\n",
       "      <th>RowNumber</th>\n",
       "      <th>CreditScore</th>\n",
       "      <th>Geography</th>\n",
       "      <th>Gender</th>\n",
       "      <th>Age</th>\n",
       "      <th>Tenure</th>\n",
       "      <th>Balance</th>\n",
       "      <th>NumOfProducts</th>\n",
       "      <th>HasCrCard</th>\n",
       "      <th>IsActiveMember</th>\n",
       "      <th>EstimatedSalary</th>\n",
       "    </tr>\n",
       "  </thead>\n",
       "  <tbody>\n",
       "    <tr>\n",
       "      <th>2967</th>\n",
       "      <td>2968</td>\n",
       "      <td>579</td>\n",
       "      <td>Germany</td>\n",
       "      <td>Female</td>\n",
       "      <td>39</td>\n",
       "      <td>5</td>\n",
       "      <td>117833.30</td>\n",
       "      <td>3</td>\n",
       "      <td>0</td>\n",
       "      <td>0</td>\n",
       "      <td>5831.00</td>\n",
       "    </tr>\n",
       "    <tr>\n",
       "      <th>700</th>\n",
       "      <td>701</td>\n",
       "      <td>750</td>\n",
       "      <td>France</td>\n",
       "      <td>Female</td>\n",
       "      <td>32</td>\n",
       "      <td>5</td>\n",
       "      <td>0.00</td>\n",
       "      <td>2</td>\n",
       "      <td>1</td>\n",
       "      <td>0</td>\n",
       "      <td>95611.47</td>\n",
       "    </tr>\n",
       "    <tr>\n",
       "      <th>3481</th>\n",
       "      <td>3482</td>\n",
       "      <td>729</td>\n",
       "      <td>Spain</td>\n",
       "      <td>Female</td>\n",
       "      <td>34</td>\n",
       "      <td>9</td>\n",
       "      <td>53299.96</td>\n",
       "      <td>2</td>\n",
       "      <td>1</td>\n",
       "      <td>1</td>\n",
       "      <td>42855.97</td>\n",
       "    </tr>\n",
       "    <tr>\n",
       "      <th>1621</th>\n",
       "      <td>1622</td>\n",
       "      <td>689</td>\n",
       "      <td>Spain</td>\n",
       "      <td>Male</td>\n",
       "      <td>38</td>\n",
       "      <td>5</td>\n",
       "      <td>75075.14</td>\n",
       "      <td>1</td>\n",
       "      <td>1</td>\n",
       "      <td>1</td>\n",
       "      <td>8651.92</td>\n",
       "    </tr>\n",
       "    <tr>\n",
       "      <th>800</th>\n",
       "      <td>801</td>\n",
       "      <td>605</td>\n",
       "      <td>France</td>\n",
       "      <td>Male</td>\n",
       "      <td>52</td>\n",
       "      <td>7</td>\n",
       "      <td>0.00</td>\n",
       "      <td>2</td>\n",
       "      <td>1</td>\n",
       "      <td>1</td>\n",
       "      <td>173952.50</td>\n",
       "    </tr>\n",
       "    <tr>\n",
       "      <th>...</th>\n",
       "      <td>...</td>\n",
       "      <td>...</td>\n",
       "      <td>...</td>\n",
       "      <td>...</td>\n",
       "      <td>...</td>\n",
       "      <td>...</td>\n",
       "      <td>...</td>\n",
       "      <td>...</td>\n",
       "      <td>...</td>\n",
       "      <td>...</td>\n",
       "      <td>...</td>\n",
       "    </tr>\n",
       "    <tr>\n",
       "      <th>9225</th>\n",
       "      <td>9226</td>\n",
       "      <td>594</td>\n",
       "      <td>Germany</td>\n",
       "      <td>Female</td>\n",
       "      <td>32</td>\n",
       "      <td>4</td>\n",
       "      <td>120074.97</td>\n",
       "      <td>2</td>\n",
       "      <td>1</td>\n",
       "      <td>1</td>\n",
       "      <td>162961.79</td>\n",
       "    </tr>\n",
       "    <tr>\n",
       "      <th>4859</th>\n",
       "      <td>4860</td>\n",
       "      <td>794</td>\n",
       "      <td>Spain</td>\n",
       "      <td>Female</td>\n",
       "      <td>22</td>\n",
       "      <td>4</td>\n",
       "      <td>114440.24</td>\n",
       "      <td>1</td>\n",
       "      <td>1</td>\n",
       "      <td>1</td>\n",
       "      <td>107753.07</td>\n",
       "    </tr>\n",
       "    <tr>\n",
       "      <th>3264</th>\n",
       "      <td>3265</td>\n",
       "      <td>738</td>\n",
       "      <td>France</td>\n",
       "      <td>Male</td>\n",
       "      <td>35</td>\n",
       "      <td>5</td>\n",
       "      <td>161274.05</td>\n",
       "      <td>2</td>\n",
       "      <td>1</td>\n",
       "      <td>0</td>\n",
       "      <td>181429.87</td>\n",
       "    </tr>\n",
       "    <tr>\n",
       "      <th>9845</th>\n",
       "      <td>9846</td>\n",
       "      <td>590</td>\n",
       "      <td>Spain</td>\n",
       "      <td>Female</td>\n",
       "      <td>38</td>\n",
       "      <td>9</td>\n",
       "      <td>0.00</td>\n",
       "      <td>2</td>\n",
       "      <td>1</td>\n",
       "      <td>1</td>\n",
       "      <td>148750.16</td>\n",
       "    </tr>\n",
       "    <tr>\n",
       "      <th>2732</th>\n",
       "      <td>2733</td>\n",
       "      <td>623</td>\n",
       "      <td>Germany</td>\n",
       "      <td>Female</td>\n",
       "      <td>48</td>\n",
       "      <td>1</td>\n",
       "      <td>108076.33</td>\n",
       "      <td>1</td>\n",
       "      <td>1</td>\n",
       "      <td>0</td>\n",
       "      <td>118855.26</td>\n",
       "    </tr>\n",
       "  </tbody>\n",
       "</table>\n",
       "<p>7500 rows × 11 columns</p>\n",
       "</div>"
      ],
      "text/plain": [
       "      RowNumber  CreditScore Geography  Gender  Age  Tenure    Balance  \\\n",
       "2967       2968          579   Germany  Female   39       5  117833.30   \n",
       "700         701          750    France  Female   32       5       0.00   \n",
       "3481       3482          729     Spain  Female   34       9   53299.96   \n",
       "1621       1622          689     Spain    Male   38       5   75075.14   \n",
       "800         801          605    France    Male   52       7       0.00   \n",
       "...         ...          ...       ...     ...  ...     ...        ...   \n",
       "9225       9226          594   Germany  Female   32       4  120074.97   \n",
       "4859       4860          794     Spain  Female   22       4  114440.24   \n",
       "3264       3265          738    France    Male   35       5  161274.05   \n",
       "9845       9846          590     Spain  Female   38       9       0.00   \n",
       "2732       2733          623   Germany  Female   48       1  108076.33   \n",
       "\n",
       "      NumOfProducts  HasCrCard  IsActiveMember  EstimatedSalary  \n",
       "2967              3          0               0          5831.00  \n",
       "700               2          1               0         95611.47  \n",
       "3481              2          1               1         42855.97  \n",
       "1621              1          1               1          8651.92  \n",
       "800               2          1               1        173952.50  \n",
       "...             ...        ...             ...              ...  \n",
       "9225              2          1               1        162961.79  \n",
       "4859              1          1               1        107753.07  \n",
       "3264              2          1               0        181429.87  \n",
       "9845              2          1               1        148750.16  \n",
       "2732              1          1               0        118855.26  \n",
       "\n",
       "[7500 rows x 11 columns]"
      ]
     },
     "execution_count": 5,
     "metadata": {},
     "output_type": "execute_result"
    }
   ],
   "source": [
    "X_train"
   ]
  },
  {
   "cell_type": "markdown",
   "metadata": {
    "id": "HJuFLXj3sf8e"
   },
   "source": [
    "- Категориальные признаки закодируем с помощью OneHotEncoding\n",
    "- Вещественные оставим пока как есть"
   ]
  },
  {
   "cell_type": "code",
   "execution_count": 6,
   "metadata": {
    "id": "OfErCKdzsf8f"
   },
   "outputs": [],
   "source": [
    "#соберем наш простой pipeline, но нам понадобится написать класс для выбора нужного поля\n",
    "class FeatureSelector(BaseEstimator, TransformerMixin):\n",
    "    def __init__(self, column):\n",
    "        self.column = column\n",
    "\n",
    "    def fit(self, X, y=None):\n",
    "        return self\n",
    "\n",
    "    def transform(self, X, y=None):\n",
    "        return X[self.column]\n",
    "    \n",
    "\n",
    "class NumberSelector(BaseEstimator, TransformerMixin):\n",
    "    \"\"\"\n",
    "    Transformer to select a single column from the data frame to perform additional transformations on\n",
    "    Use on numeric columns in the data\n",
    "    \"\"\"\n",
    "    def __init__(self, key):\n",
    "        self.key = key\n",
    "\n",
    "    def fit(self, X, y=None):\n",
    "        return self\n",
    "\n",
    "    def transform(self, X):\n",
    "        return X[[self.key]]\n",
    "    \n",
    "    \n",
    "class OHEEncoder(BaseEstimator, TransformerMixin):\n",
    "    def __init__(self, key):\n",
    "        self.key = key\n",
    "        self.columns = []\n",
    "\n",
    "    def fit(self, X, y=None):\n",
    "        self.columns = [col for col in pd.get_dummies(X, prefix=self.key).columns]\n",
    "        return self\n",
    "\n",
    "    def transform(self, X):\n",
    "        X = pd.get_dummies(X, prefix=self.key)\n",
    "        test_columns = [col for col in X.columns]\n",
    "        \n",
    "        for col_ in self.columns:\n",
    "            if col_ not in test_columns:\n",
    "                X[col_] = 0\n",
    "        return X[self.columns]"
   ]
  },
  {
   "cell_type": "markdown",
   "metadata": {
    "id": "efYT8DsQsf8j"
   },
   "source": [
    "Зададим списки признаков"
   ]
  },
  {
   "cell_type": "code",
   "execution_count": 7,
   "metadata": {
    "id": "HfpW0u5dsf8k"
   },
   "outputs": [],
   "source": [
    "categorical_columns = ['Geography', 'Gender', 'Tenure', 'HasCrCard', 'IsActiveMember']\n",
    "continuous_columns = ['CreditScore', 'Age', 'Balance', 'NumOfProducts', 'EstimatedSalary','RowNumber']"
   ]
  },
  {
   "cell_type": "markdown",
   "metadata": {
    "id": "l7Zzhsdpsf8r"
   },
   "source": [
    "Создадим под каждый признак трансформер и объединим их в список."
   ]
  },
  {
   "cell_type": "code",
   "execution_count": 8,
   "metadata": {
    "id": "KJpjpxK5sf8t"
   },
   "outputs": [],
   "source": [
    "final_transformers = list()\n",
    "\n",
    "for cat_col in categorical_columns:\n",
    "    cat_transformer = Pipeline([\n",
    "                ('selector', FeatureSelector(column=cat_col)),\n",
    "                ('ohe', OHEEncoder(key=cat_col))\n",
    "            ])\n",
    "    \n",
    "    final_transformers.append((cat_col, cat_transformer))\n",
    "    \n",
    "for cont_col in continuous_columns:\n",
    "    cont_transformer = Pipeline([\n",
    "                ('selector', NumberSelector(key=cont_col)),\n",
    "                ('standard', StandardScaler())\n",
    "            ])\n",
    "    \n",
    "    final_transformers.append((cont_col, cont_transformer))"
   ]
  },
  {
   "cell_type": "markdown",
   "metadata": {
    "id": "YIxP275bsf8v"
   },
   "source": [
    "Объединим все это в единый пайплайн"
   ]
  },
  {
   "cell_type": "code",
   "execution_count": 11,
   "metadata": {
    "id": "kz3PW5uisf8w"
   },
   "outputs": [
    {
     "data": {
      "text/plain": [
       "array([[ 0.        ,  1.        ,  0.        , ...,  2.53503394,\n",
       "        -1.64080994, -0.70217614],\n",
       "       [ 1.        ,  0.        ,  0.        , ...,  0.80424154,\n",
       "        -0.07927152, -1.48572191],\n",
       "       [ 0.        ,  0.        ,  1.        , ...,  0.80424154,\n",
       "        -0.99684012, -0.52452174],\n",
       "       ...,\n",
       "       [ 1.        ,  0.        ,  0.        , ...,  0.80424154,\n",
       "         1.4133552 , -0.59952369],\n",
       "       [ 0.        ,  0.        ,  1.        , ...,  0.80424154,\n",
       "         0.84496184,  1.67507477],\n",
       "       [ 0.        ,  1.        ,  0.        , ..., -0.92655087,\n",
       "         0.32500428, -0.78339945]])"
      ]
     },
     "execution_count": 11,
     "metadata": {},
     "output_type": "execute_result"
    }
   ],
   "source": [
    "feats = FeatureUnion(final_transformers)\n",
    "feature_processing = Pipeline([('feats', feats)])\n",
    "feature_processing.fit_transform(X_train)"
   ]
  },
  {
   "cell_type": "markdown",
   "metadata": {
    "id": "2O_oqbKBsf8x"
   },
   "source": [
    "Теперь у нас есть пайплайн, который готовит признаки для моделирования.\n",
    "\n",
    "Подготовим модели градиентного бустинга и логистической регрессии"
   ]
  },
  {
   "cell_type": "code",
   "execution_count": 38,
   "metadata": {},
   "outputs": [],
   "source": [
    "pipelines = {\n",
    "    \"GradientBoostingClassifier\": Pipeline([('features', feats),\n",
    "                                            ('classifier', GradientBoostingClassifier(n_estimators=100, max_depth=1, random_state=0))]),\n",
    "    'LogisticRegression':Pipeline([('features', feats),\n",
    "                                   ('classifier', LogisticRegression(max_iter = 100, random_state=0))]),\n",
    "    'RandomForestClassifier':Pipeline([('features', feats),\n",
    "                                       ('classifier', RandomForestClassifier(random_state=42))])\n",
    "}"
   ]
  },
  {
   "cell_type": "markdown",
   "metadata": {
    "id": "wG61QI_osf80"
   },
   "source": [
    "Обучим модели"
   ]
  },
  {
   "cell_type": "code",
   "execution_count": 15,
   "metadata": {},
   "outputs": [],
   "source": [
    "for pipeline in pipelines:\n",
    "    pipelines[pipeline].fit(X_train, y_train)    "
   ]
  },
  {
   "cell_type": "code",
   "execution_count": 16,
   "metadata": {},
   "outputs": [],
   "source": [
    "# прогнозы для тестовой выборки\n",
    "preds_models = {}\n",
    "for pipeline in pipelines:\n",
    "    preds_models[pipeline] = pipelines[pipeline].fit(X_train, y_train).predict_proba(X_test)[:, 1] "
   ]
  },
  {
   "cell_type": "markdown",
   "metadata": {
    "id": "hSNd-Drssf85"
   },
   "source": [
    "Перейдем от вероятностей к меткам классов подобрав порог, после которого будем считать, что объект можно отнести к классу 1 (если вероятность больше порога - размечаем объект как класс 1, если нет - класс 0)."
   ]
  },
  {
   "cell_type": "markdown",
   "metadata": {},
   "source": [
    "В качестве м етрики выберем F1"
   ]
  },
  {
   "cell_type": "code",
   "execution_count": 18,
   "metadata": {},
   "outputs": [],
   "source": [
    "def threshold(y_test, preds,b=1):\n",
    "    precision, recall, thresholds = precision_recall_curve(y_test, preds)\n",
    "    fscore = ((1+b**2) * precision * recall) / (b**2*precision + recall)\n",
    "    ix = np.argmax(fscore)\n",
    "    return {\"threshold\":thresholds[ix], 'f-Score':fscore[ix], 'precision':precision[ix], 'recall':recall[ix]}    "
   ]
  },
  {
   "cell_type": "code",
   "execution_count": 19,
   "metadata": {},
   "outputs": [],
   "source": [
    "metrics_models = {}\n",
    "for pred in preds_models:\n",
    "    metrics_models[pred] = threshold(y_test, preds_models[pred])"
   ]
  },
  {
   "cell_type": "markdown",
   "metadata": {},
   "source": [
    "Выведем таблицу с метриками и отсортируем по ['f-Score']"
   ]
  },
  {
   "cell_type": "code",
   "execution_count": 20,
   "metadata": {},
   "outputs": [
    {
     "data": {
      "text/html": [
       "<div>\n",
       "<style scoped>\n",
       "    .dataframe tbody tr th:only-of-type {\n",
       "        vertical-align: middle;\n",
       "    }\n",
       "\n",
       "    .dataframe tbody tr th {\n",
       "        vertical-align: top;\n",
       "    }\n",
       "\n",
       "    .dataframe thead th {\n",
       "        text-align: right;\n",
       "    }\n",
       "</style>\n",
       "<table border=\"1\" class=\"dataframe\">\n",
       "  <thead>\n",
       "    <tr style=\"text-align: right;\">\n",
       "      <th></th>\n",
       "      <th>threshold</th>\n",
       "      <th>f-Score</th>\n",
       "      <th>precision</th>\n",
       "      <th>recall</th>\n",
       "    </tr>\n",
       "  </thead>\n",
       "  <tbody>\n",
       "    <tr>\n",
       "      <th>RandomForestClassifier</th>\n",
       "      <td>0.340000</td>\n",
       "      <td>0.635338</td>\n",
       "      <td>0.609009</td>\n",
       "      <td>0.664047</td>\n",
       "    </tr>\n",
       "    <tr>\n",
       "      <th>GradientBoostingClassifier</th>\n",
       "      <td>0.372100</td>\n",
       "      <td>0.620908</td>\n",
       "      <td>0.671233</td>\n",
       "      <td>0.577603</td>\n",
       "    </tr>\n",
       "    <tr>\n",
       "      <th>LogisticRegression</th>\n",
       "      <td>0.273899</td>\n",
       "      <td>0.506689</td>\n",
       "      <td>0.441048</td>\n",
       "      <td>0.595285</td>\n",
       "    </tr>\n",
       "  </tbody>\n",
       "</table>\n",
       "</div>"
      ],
      "text/plain": [
       "                            threshold   f-Score  precision    recall\n",
       "RandomForestClassifier       0.340000  0.635338   0.609009  0.664047\n",
       "GradientBoostingClassifier   0.372100  0.620908   0.671233  0.577603\n",
       "LogisticRegression           0.273899  0.506689   0.441048  0.595285"
      ]
     },
     "execution_count": 20,
     "metadata": {},
     "output_type": "execute_result"
    }
   ],
   "source": [
    "models = pd.DataFrame(metrics_models).T\n",
    "models = models.sort_values(by=['f-Score'], ascending=False)\n",
    "models"
   ]
  },
  {
   "cell_type": "markdown",
   "metadata": {},
   "source": [
    "Произведем оценку экономической эффективности если 1 доллар на удержание, 2 доллара - с каждого правильно классифицированного (True Positive)"
   ]
  },
  {
   "cell_type": "code",
   "execution_count": 21,
   "metadata": {},
   "outputs": [],
   "source": [
    "def economic_metric(y_test,pred,threshold):\n",
    "    cnf_matrix = confusion_matrix(y_test, pred > threshold)\n",
    "    FP = cnf_matrix[0][1]\n",
    "    TP = cnf_matrix[1][1]\n",
    "    return (2-1)*TP-FP   "
   ]
  },
  {
   "cell_type": "code",
   "execution_count": 23,
   "metadata": {},
   "outputs": [],
   "source": [
    "economic = []\n",
    "for model_name in models['threshold'].keys():\n",
    "    economic.append(economic_metric(y_test,preds_models[model_name],models.loc[model_name,'threshold']))"
   ]
  },
  {
   "cell_type": "code",
   "execution_count": 24,
   "metadata": {},
   "outputs": [],
   "source": [
    "models['economic'] = economic"
   ]
  },
  {
   "cell_type": "markdown",
   "metadata": {},
   "source": [
    "Выведем результат в таблице"
   ]
  },
  {
   "cell_type": "code",
   "execution_count": 25,
   "metadata": {
    "scrolled": true
   },
   "outputs": [
    {
     "data": {
      "text/html": [
       "<div>\n",
       "<style scoped>\n",
       "    .dataframe tbody tr th:only-of-type {\n",
       "        vertical-align: middle;\n",
       "    }\n",
       "\n",
       "    .dataframe tbody tr th {\n",
       "        vertical-align: top;\n",
       "    }\n",
       "\n",
       "    .dataframe thead th {\n",
       "        text-align: right;\n",
       "    }\n",
       "</style>\n",
       "<table border=\"1\" class=\"dataframe\">\n",
       "  <thead>\n",
       "    <tr style=\"text-align: right;\">\n",
       "      <th></th>\n",
       "      <th>threshold</th>\n",
       "      <th>f-Score</th>\n",
       "      <th>precision</th>\n",
       "      <th>recall</th>\n",
       "      <th>economic</th>\n",
       "    </tr>\n",
       "  </thead>\n",
       "  <tbody>\n",
       "    <tr>\n",
       "      <th>RandomForestClassifier</th>\n",
       "      <td>0.340000</td>\n",
       "      <td>0.635338</td>\n",
       "      <td>0.609009</td>\n",
       "      <td>0.664047</td>\n",
       "      <td>127</td>\n",
       "    </tr>\n",
       "    <tr>\n",
       "      <th>GradientBoostingClassifier</th>\n",
       "      <td>0.372100</td>\n",
       "      <td>0.620908</td>\n",
       "      <td>0.671233</td>\n",
       "      <td>0.577603</td>\n",
       "      <td>149</td>\n",
       "    </tr>\n",
       "    <tr>\n",
       "      <th>LogisticRegression</th>\n",
       "      <td>0.273899</td>\n",
       "      <td>0.506689</td>\n",
       "      <td>0.441048</td>\n",
       "      <td>0.595285</td>\n",
       "      <td>-82</td>\n",
       "    </tr>\n",
       "  </tbody>\n",
       "</table>\n",
       "</div>"
      ],
      "text/plain": [
       "                            threshold   f-Score  precision    recall  economic\n",
       "RandomForestClassifier       0.340000  0.635338   0.609009  0.664047       127\n",
       "GradientBoostingClassifier   0.372100  0.620908   0.671233  0.577603       149\n",
       "LogisticRegression           0.273899  0.506689   0.441048  0.595285       -82"
      ]
     },
     "execution_count": 25,
     "metadata": {},
     "output_type": "execute_result"
    }
   ],
   "source": [
    "models"
   ]
  },
  {
   "cell_type": "markdown",
   "metadata": {},
   "source": [
    "Проведем подбор гиперпараметров полученных моделей"
   ]
  },
  {
   "cell_type": "code",
   "execution_count": 39,
   "metadata": {},
   "outputs": [],
   "source": [
    "params = {\n",
    "    'RandomForestClassifier':{\n",
    "        'classifier__max_features':[0.3, 0.5, 0.7],\n",
    "        'classifier__min_samples_leaf':[1, 2, 3],\n",
    "        'classifier__class_weight':[{0:1, 1:4}, 'balanced_subsample']\n",
    "    },\n",
    "    'LogisticRegression':{\n",
    "        'classifier__penalty' : ['l1', 'l2'],\n",
    "        'classifier__C' : np.logspace(-4, 4, 20)\n",
    "    },\n",
    "    \"GradientBoostingClassifier\":{\n",
    "        'classifier__min_samples_split':range(200,1001,200),\n",
    "        'classifier__max_depth':[1, 4, 7],\n",
    "        'classifier__learning_rate':[0.1, 0.2, 0.3]\n",
    "    }\n",
    "}"
   ]
  },
  {
   "cell_type": "code",
   "execution_count": 41,
   "metadata": {},
   "outputs": [
    {
     "name": "stdout",
     "output_type": "stream",
     "text": [
      "Pipeline(steps=[('features',\n",
      "                 FeatureUnion(transformer_list=[('Geography',\n",
      "                                                 Pipeline(steps=[('selector',\n",
      "                                                                  FeatureSelector(column='Geography')),\n",
      "                                                                 ('ohe',\n",
      "                                                                  OHEEncoder(key='Geography'))])),\n",
      "                                                ('Gender',\n",
      "                                                 Pipeline(steps=[('selector',\n",
      "                                                                  FeatureSelector(column='Gender')),\n",
      "                                                                 ('ohe',\n",
      "                                                                  OHEEncoder(key='Gender'))])),\n",
      "                                                ('Tenure',\n",
      "                                                 Pipeline(steps=[('selector',\n",
      "                                                                  FeatureSelector(column='Tenu...\n",
      "                                                                  NumberSelector(key='NumOfProducts')),\n",
      "                                                                 ('standard',\n",
      "                                                                  StandardScaler())])),\n",
      "                                                ('EstimatedSalary',\n",
      "                                                 Pipeline(steps=[('selector',\n",
      "                                                                  NumberSelector(key='EstimatedSalary')),\n",
      "                                                                 ('standard',\n",
      "                                                                  StandardScaler())])),\n",
      "                                                ('RowNumber',\n",
      "                                                 Pipeline(steps=[('selector',\n",
      "                                                                  NumberSelector(key='RowNumber')),\n",
      "                                                                 ('standard',\n",
      "                                                                  StandardScaler())]))])),\n",
      "                ('classifier',\n",
      "                 GradientBoostingClassifier(max_depth=1, random_state=0))])\n",
      "Pipeline(steps=[('features',\n",
      "                 FeatureUnion(transformer_list=[('Geography',\n",
      "                                                 Pipeline(steps=[('selector',\n",
      "                                                                  FeatureSelector(column='Geography')),\n",
      "                                                                 ('ohe',\n",
      "                                                                  OHEEncoder(key='Geography'))])),\n",
      "                                                ('Gender',\n",
      "                                                 Pipeline(steps=[('selector',\n",
      "                                                                  FeatureSelector(column='Gender')),\n",
      "                                                                 ('ohe',\n",
      "                                                                  OHEEncoder(key='Gender'))])),\n",
      "                                                ('Tenure',\n",
      "                                                 Pipeline(steps=[('selector',\n",
      "                                                                  FeatureSelector(column='Tenu...\n",
      "                                                                  NumberSelector(key='NumOfProducts')),\n",
      "                                                                 ('standard',\n",
      "                                                                  StandardScaler())])),\n",
      "                                                ('EstimatedSalary',\n",
      "                                                 Pipeline(steps=[('selector',\n",
      "                                                                  NumberSelector(key='EstimatedSalary')),\n",
      "                                                                 ('standard',\n",
      "                                                                  StandardScaler())])),\n",
      "                                                ('RowNumber',\n",
      "                                                 Pipeline(steps=[('selector',\n",
      "                                                                  NumberSelector(key='RowNumber')),\n",
      "                                                                 ('standard',\n",
      "                                                                  StandardScaler())]))])),\n",
      "                ('classifier', LogisticRegression(random_state=0))])\n"
     ]
    },
    {
     "name": "stderr",
     "output_type": "stream",
     "text": [
      "C:\\Users\\Dchudov\\Anaconda3\\lib\\site-packages\\sklearn\\model_selection\\_validation.py:372: FitFailedWarning: \n",
      "120 fits failed out of a total of 240.\n",
      "The score on these train-test partitions for these parameters will be set to nan.\n",
      "If these failures are not expected, you can try to debug them by setting error_score='raise'.\n",
      "\n",
      "Below are more details about the failures:\n",
      "--------------------------------------------------------------------------------\n",
      "120 fits failed with the following error:\n",
      "Traceback (most recent call last):\n",
      "  File \"C:\\Users\\Dchudov\\Anaconda3\\lib\\site-packages\\sklearn\\model_selection\\_validation.py\", line 680, in _fit_and_score\n",
      "    estimator.fit(X_train, y_train, **fit_params)\n",
      "  File \"C:\\Users\\Dchudov\\Anaconda3\\lib\\site-packages\\sklearn\\pipeline.py\", line 394, in fit\n",
      "    self._final_estimator.fit(Xt, y, **fit_params_last_step)\n",
      "  File \"C:\\Users\\Dchudov\\Anaconda3\\lib\\site-packages\\sklearn\\linear_model\\_logistic.py\", line 1461, in fit\n",
      "    solver = _check_solver(self.solver, self.penalty, self.dual)\n",
      "  File \"C:\\Users\\Dchudov\\Anaconda3\\lib\\site-packages\\sklearn\\linear_model\\_logistic.py\", line 447, in _check_solver\n",
      "    raise ValueError(\n",
      "ValueError: Solver lbfgs supports only 'l2' or 'none' penalties, got l1 penalty.\n",
      "\n",
      "  warnings.warn(some_fits_failed_message, FitFailedWarning)\n",
      "C:\\Users\\Dchudov\\Anaconda3\\lib\\site-packages\\sklearn\\model_selection\\_search.py:969: UserWarning: One or more of the test scores are non-finite: [       nan 0.79626667        nan 0.79626667        nan 0.7964\n",
      "        nan 0.79626667        nan 0.806             nan 0.8092\n",
      "        nan 0.81              nan 0.80866667        nan 0.8092\n",
      "        nan 0.80906667        nan 0.80893333        nan 0.8092\n",
      "        nan 0.8092            nan 0.8092            nan 0.8092\n",
      "        nan 0.8092            nan 0.8092            nan 0.8092\n",
      "        nan 0.8092            nan 0.8092    ]\n",
      "  warnings.warn(\n"
     ]
    },
    {
     "name": "stdout",
     "output_type": "stream",
     "text": [
      "Pipeline(steps=[('features',\n",
      "                 FeatureUnion(transformer_list=[('Geography',\n",
      "                                                 Pipeline(steps=[('selector',\n",
      "                                                                  FeatureSelector(column='Geography')),\n",
      "                                                                 ('ohe',\n",
      "                                                                  OHEEncoder(key='Geography'))])),\n",
      "                                                ('Gender',\n",
      "                                                 Pipeline(steps=[('selector',\n",
      "                                                                  FeatureSelector(column='Gender')),\n",
      "                                                                 ('ohe',\n",
      "                                                                  OHEEncoder(key='Gender'))])),\n",
      "                                                ('Tenure',\n",
      "                                                 Pipeline(steps=[('selector',\n",
      "                                                                  FeatureSelector(column='Tenu...\n",
      "                                                                  NumberSelector(key='NumOfProducts')),\n",
      "                                                                 ('standard',\n",
      "                                                                  StandardScaler())])),\n",
      "                                                ('EstimatedSalary',\n",
      "                                                 Pipeline(steps=[('selector',\n",
      "                                                                  NumberSelector(key='EstimatedSalary')),\n",
      "                                                                 ('standard',\n",
      "                                                                  StandardScaler())])),\n",
      "                                                ('RowNumber',\n",
      "                                                 Pipeline(steps=[('selector',\n",
      "                                                                  NumberSelector(key='RowNumber')),\n",
      "                                                                 ('standard',\n",
      "                                                                  StandardScaler())]))])),\n",
      "                ('classifier', RandomForestClassifier(random_state=42))])\n",
      "CPU times: total: 10min 40s\n",
      "Wall time: 10min 29s\n"
     ]
    }
   ],
   "source": [
    "%%time\n",
    "new_param = {}\n",
    "for pipeline_name in pipelines:\n",
    "    print(pipelines[pipeline_name])\n",
    "    grid = GridSearchCV(pipelines[pipeline_name],param_grid=params[pipeline_name],cv=6,refit=False)\n",
    "    search = grid.fit(X_train, y_train)\n",
    "    new_param[pipeline_name] = search.best_params_"
   ]
  },
  {
   "cell_type": "markdown",
   "metadata": {},
   "source": [
    "Обучим модели с новыми параметрами"
   ]
  },
  {
   "cell_type": "code",
   "execution_count": 42,
   "metadata": {},
   "outputs": [
    {
     "data": {
      "text/plain": [
       "{'GradientBoostingClassifier': {'classifier__learning_rate': 0.1,\n",
       "  'classifier__max_depth': 4,\n",
       "  'classifier__min_samples_split': 200},\n",
       " 'LogisticRegression': {'classifier__C': 0.03359818286283781,\n",
       "  'classifier__penalty': 'l2'},\n",
       " 'RandomForestClassifier': {'classifier__class_weight': 'balanced_subsample',\n",
       "  'classifier__max_features': 0.3,\n",
       "  'classifier__min_samples_leaf': 2}}"
      ]
     },
     "execution_count": 42,
     "metadata": {},
     "output_type": "execute_result"
    }
   ],
   "source": [
    "new_param"
   ]
  },
  {
   "cell_type": "code",
   "execution_count": 43,
   "metadata": {},
   "outputs": [],
   "source": [
    "pipelines = {\n",
    "    \"GradientBoostingClassifier\": Pipeline([('features', feats),\n",
    "                                            ('classifier', GradientBoostingClassifier(learning_rate=0.1, max_depth=4, min_samples_split=200, random_state=0))]),\n",
    "    'LogisticRegression':Pipeline([('features', feats),\n",
    "                                   ('classifier', LogisticRegression(max_iter = 100, C=0.0335,penalty='l2', random_state=0))]),\n",
    "    'RandomForestClassifier':Pipeline([('features', feats),\n",
    "                                       ('classifier', RandomForestClassifier(max_features=0.3,min_samples_leaf=2,random_state=42))])\n",
    "}"
   ]
  },
  {
   "cell_type": "code",
   "execution_count": 45,
   "metadata": {},
   "outputs": [],
   "source": [
    "for pipeline in pipelines:\n",
    "    pipelines[pipeline].fit(X_train, y_train)    "
   ]
  },
  {
   "cell_type": "code",
   "execution_count": 46,
   "metadata": {},
   "outputs": [],
   "source": [
    "# прогнозы для тестовой выборки\n",
    "preds_models = {}\n",
    "for pipeline in pipelines:\n",
    "    preds_models[pipeline] = pipelines[pipeline].fit(X_train, y_train).predict_proba(X_test)[:, 1] "
   ]
  },
  {
   "cell_type": "markdown",
   "metadata": {},
   "source": [
    "В качестве метрики выберем F1"
   ]
  },
  {
   "cell_type": "code",
   "execution_count": 47,
   "metadata": {},
   "outputs": [],
   "source": [
    "def threshold(y_test, preds,b=1):\n",
    "    precision, recall, thresholds = precision_recall_curve(y_test, preds)\n",
    "    fscore = ((1+b**2) * precision * recall) / (b**2*precision + recall)\n",
    "    ix = np.argmax(fscore)\n",
    "    return {\"threshold\":thresholds[ix], 'f-Score':fscore[ix], 'precision':precision[ix], 'recall':recall[ix]}    "
   ]
  },
  {
   "cell_type": "code",
   "execution_count": 48,
   "metadata": {},
   "outputs": [],
   "source": [
    "metrics_models = {}\n",
    "for pred in preds_models:\n",
    "    metrics_models[pred] = threshold(y_test, preds_models[pred])"
   ]
  },
  {
   "cell_type": "markdown",
   "metadata": {},
   "source": [
    "Выведем таблицу с метриками и отсортируем по ['f-Score']"
   ]
  },
  {
   "cell_type": "code",
   "execution_count": 49,
   "metadata": {},
   "outputs": [
    {
     "data": {
      "text/html": [
       "<div>\n",
       "<style scoped>\n",
       "    .dataframe tbody tr th:only-of-type {\n",
       "        vertical-align: middle;\n",
       "    }\n",
       "\n",
       "    .dataframe tbody tr th {\n",
       "        vertical-align: top;\n",
       "    }\n",
       "\n",
       "    .dataframe thead th {\n",
       "        text-align: right;\n",
       "    }\n",
       "</style>\n",
       "<table border=\"1\" class=\"dataframe\">\n",
       "  <thead>\n",
       "    <tr style=\"text-align: right;\">\n",
       "      <th></th>\n",
       "      <th>threshold</th>\n",
       "      <th>f-Score</th>\n",
       "      <th>precision</th>\n",
       "      <th>recall</th>\n",
       "    </tr>\n",
       "  </thead>\n",
       "  <tbody>\n",
       "    <tr>\n",
       "      <th>RandomForestClassifier</th>\n",
       "      <td>0.378061</td>\n",
       "      <td>0.647773</td>\n",
       "      <td>0.668058</td>\n",
       "      <td>0.628684</td>\n",
       "    </tr>\n",
       "    <tr>\n",
       "      <th>GradientBoostingClassifier</th>\n",
       "      <td>0.372640</td>\n",
       "      <td>0.638806</td>\n",
       "      <td>0.647177</td>\n",
       "      <td>0.630648</td>\n",
       "    </tr>\n",
       "    <tr>\n",
       "      <th>LogisticRegression</th>\n",
       "      <td>0.244862</td>\n",
       "      <td>0.507213</td>\n",
       "      <td>0.413366</td>\n",
       "      <td>0.656189</td>\n",
       "    </tr>\n",
       "  </tbody>\n",
       "</table>\n",
       "</div>"
      ],
      "text/plain": [
       "                            threshold   f-Score  precision    recall\n",
       "RandomForestClassifier       0.378061  0.647773   0.668058  0.628684\n",
       "GradientBoostingClassifier   0.372640  0.638806   0.647177  0.630648\n",
       "LogisticRegression           0.244862  0.507213   0.413366  0.656189"
      ]
     },
     "execution_count": 49,
     "metadata": {},
     "output_type": "execute_result"
    }
   ],
   "source": [
    "models = pd.DataFrame(metrics_models).T\n",
    "models = models.sort_values(by=['f-Score'], ascending=False)\n",
    "models"
   ]
  },
  {
   "cell_type": "code",
   "execution_count": null,
   "metadata": {},
   "outputs": [],
   "source": []
  },
  {
   "cell_type": "markdown",
   "metadata": {},
   "source": [
    "Произведем оценку экономической эффективности если 1 доллар на удержание, 2 доллара - с каждого правильно классифицированного (True Positive)"
   ]
  },
  {
   "cell_type": "code",
   "execution_count": 50,
   "metadata": {},
   "outputs": [],
   "source": [
    "def economic_metric(y_test,pred,threshold):\n",
    "    cnf_matrix = confusion_matrix(y_test, pred > threshold)\n",
    "    FP = cnf_matrix[0][1]\n",
    "    TP = cnf_matrix[1][1]\n",
    "    return (2-1)*TP-FP   "
   ]
  },
  {
   "cell_type": "code",
   "execution_count": 51,
   "metadata": {},
   "outputs": [],
   "source": [
    "economic = []\n",
    "for model_name in models['threshold'].keys():\n",
    "    economic.append(economic_metric(y_test,preds_models[model_name],models.loc[model_name,'threshold']))"
   ]
  },
  {
   "cell_type": "code",
   "execution_count": 52,
   "metadata": {},
   "outputs": [],
   "source": [
    "models['economic'] = economic"
   ]
  },
  {
   "cell_type": "markdown",
   "metadata": {},
   "source": [
    "Выведем результат в таблице"
   ]
  },
  {
   "cell_type": "code",
   "execution_count": 53,
   "metadata": {
    "scrolled": false
   },
   "outputs": [
    {
     "data": {
      "text/html": [
       "<div>\n",
       "<style scoped>\n",
       "    .dataframe tbody tr th:only-of-type {\n",
       "        vertical-align: middle;\n",
       "    }\n",
       "\n",
       "    .dataframe tbody tr th {\n",
       "        vertical-align: top;\n",
       "    }\n",
       "\n",
       "    .dataframe thead th {\n",
       "        text-align: right;\n",
       "    }\n",
       "</style>\n",
       "<table border=\"1\" class=\"dataframe\">\n",
       "  <thead>\n",
       "    <tr style=\"text-align: right;\">\n",
       "      <th></th>\n",
       "      <th>threshold</th>\n",
       "      <th>f-Score</th>\n",
       "      <th>precision</th>\n",
       "      <th>recall</th>\n",
       "      <th>economic</th>\n",
       "    </tr>\n",
       "  </thead>\n",
       "  <tbody>\n",
       "    <tr>\n",
       "      <th>RandomForestClassifier</th>\n",
       "      <td>0.378061</td>\n",
       "      <td>0.647773</td>\n",
       "      <td>0.668058</td>\n",
       "      <td>0.628684</td>\n",
       "      <td>160</td>\n",
       "    </tr>\n",
       "    <tr>\n",
       "      <th>GradientBoostingClassifier</th>\n",
       "      <td>0.372640</td>\n",
       "      <td>0.638806</td>\n",
       "      <td>0.647177</td>\n",
       "      <td>0.630648</td>\n",
       "      <td>145</td>\n",
       "    </tr>\n",
       "    <tr>\n",
       "      <th>LogisticRegression</th>\n",
       "      <td>0.244862</td>\n",
       "      <td>0.507213</td>\n",
       "      <td>0.413366</td>\n",
       "      <td>0.656189</td>\n",
       "      <td>-141</td>\n",
       "    </tr>\n",
       "  </tbody>\n",
       "</table>\n",
       "</div>"
      ],
      "text/plain": [
       "                            threshold   f-Score  precision    recall  economic\n",
       "RandomForestClassifier       0.378061  0.647773   0.668058  0.628684       160\n",
       "GradientBoostingClassifier   0.372640  0.638806   0.647177  0.630648       145\n",
       "LogisticRegression           0.244862  0.507213   0.413366  0.656189      -141"
      ]
     },
     "execution_count": 53,
     "metadata": {},
     "output_type": "execute_result"
    }
   ],
   "source": [
    "models"
   ]
  },
  {
   "cell_type": "markdown",
   "metadata": {},
   "source": [
    "### Применим метрику  F-мера, подбирая гиперпараметр b, таким образом, что бы прибыль была максимальной"
   ]
  },
  {
   "cell_type": "code",
   "execution_count": 64,
   "metadata": {},
   "outputs": [],
   "source": [
    "fvScore = {}\n",
    "for pred in preds_models:\n",
    "    res_threshold = {\"threshold\":0,\"res\":0,\"b\":0}\n",
    "    b_arange = np.arange(0.1,1.1,0.1)\n",
    "    for b in b_arange:\n",
    "        metric = threshold(y_test, preds_models[pred],b=b)\n",
    "        ix = np.argmax(metric['f-Score'])    \n",
    "        cnf_matrix = confusion_matrix(y_test, preds_models[pred] > metric['threshold'])    \n",
    "        FP = cnf_matrix[0][1]\n",
    "        TP = cnf_matrix[1][1]\n",
    "        res = economic_metric(y_test,preds_models[pred],metric['threshold'])       \n",
    "        if res_threshold[\"res\"] < res :       \n",
    "            res_threshold[\"res\"] = res\n",
    "            res_threshold[\"threshold\"] = metric['threshold']\n",
    "            res_threshold[\"b\"] = b \n",
    "            fvScore[pred] = res_threshold"
   ]
  },
  {
   "cell_type": "code",
   "execution_count": 65,
   "metadata": {},
   "outputs": [
    {
     "data": {
      "text/plain": [
       "{'GradientBoostingClassifier': {'threshold': 0.5557712771728794,\n",
       "  'res': 181,\n",
       "  'b': 0.6},\n",
       " 'LogisticRegression': {'threshold': 0.5136722673944952,\n",
       "  'res': 35,\n",
       "  'b': 0.30000000000000004},\n",
       " 'RandomForestClassifier': {'threshold': 0.5799428088251617,\n",
       "  'res': 178,\n",
       "  'b': 0.6}}"
      ]
     },
     "execution_count": 65,
     "metadata": {},
     "output_type": "execute_result"
    }
   ],
   "source": [
    "fvScore"
   ]
  },
  {
   "cell_type": "markdown",
   "metadata": {},
   "source": [
    "По результатам видно, каким должен быть threshold и b, чтобы прибыль была максимальной."
   ]
  }
 ],
 "metadata": {
  "colab": {
   "collapsed_sections": [],
   "name": "Lesson_5.ipynb",
   "provenance": []
  },
  "kernelspec": {
   "display_name": "Python 3 (ipykernel)",
   "language": "python",
   "name": "python3"
  },
  "language_info": {
   "codemirror_mode": {
    "name": "ipython",
    "version": 3
   },
   "file_extension": ".py",
   "mimetype": "text/x-python",
   "name": "python",
   "nbconvert_exporter": "python",
   "pygments_lexer": "ipython3",
   "version": "3.9.12"
  }
 },
 "nbformat": 4,
 "nbformat_minor": 1
}
